{
 "cells": [
  {
   "cell_type": "code",
   "execution_count": 8,
   "metadata": {},
   "outputs": [
    {
     "name": "stdout",
     "output_type": "stream",
     "text": [
      "['https://twitter.com/SafaricomPLC', 'https://twitter.com/SafaricomPLC', 'https://www.facebook.com/messages/t/SafaricomPLC', 'https://www.facebook.com/SafaricomPLC/', 'https://www.facebook.com/messages/t/SafaricomPLC', 'https://www.facebook.com/SafaricomPLC/', 'https://www.linkedin.com/company/safaricom/?originalSubdomain=ke']\n"
     ]
    }
   ],
   "source": [
    "import requests\n",
    "from bs4 import BeautifulSoup\n",
    "\n",
    "url = \"https://www.safaricom.co.ke/\"\n",
    "r = requests.get(url)\n",
    "sm_sites = ['twitter.com','facebook.com','linkedin.com']\n",
    "sm_sites_present =[]\n",
    "\n",
    "soup = BeautifulSoup(r.content,'html5lib')\n",
    "all_links = soup.find_all('a',href = True)\n",
    "\n",
    "for sm_site in sm_sites:\n",
    "    for link in all_links:\n",
    "        if sm_site in link.attrs['href']:\n",
    "            sm_sites_present.append(link.attrs['href'])\n",
    "            \n",
    "print(sm_sites_present)"
   ]
  },
  {
   "cell_type": "code",
   "execution_count": 13,
   "metadata": {},
   "outputs": [
    {
     "name": "stderr",
     "output_type": "stream",
     "text": [
      "C:\\Users\\Nelly\\anaconda3\\lib\\site-packages\\ipykernel_launcher.py:14: DeprecationWarning: The default dtype for empty Series will be 'object' instead of 'float64' in a future version. Specify a dtype explicitly to silence this warning.\n",
      "  \n"
     ]
    },
    {
     "data": {
      "text/html": [
       "<div>\n",
       "<style scoped>\n",
       "    .dataframe tbody tr th:only-of-type {\n",
       "        vertical-align: middle;\n",
       "    }\n",
       "\n",
       "    .dataframe tbody tr th {\n",
       "        vertical-align: top;\n",
       "    }\n",
       "\n",
       "    .dataframe thead th {\n",
       "        text-align: right;\n",
       "    }\n",
       "</style>\n",
       "<table border=\"1\" class=\"dataframe\">\n",
       "  <thead>\n",
       "    <tr style=\"text-align: right;\">\n",
       "      <th></th>\n",
       "      <th>url</th>\n",
       "      <th>twitter.com</th>\n",
       "      <th>facebook.com</th>\n",
       "      <th>linkedin.com</th>\n",
       "    </tr>\n",
       "  </thead>\n",
       "  <tbody>\n",
       "    <tr>\n",
       "      <th>0</th>\n",
       "      <td>https://www.firstrand.co.za/</td>\n",
       "      <td>no link</td>\n",
       "      <td>no link</td>\n",
       "      <td>no link</td>\n",
       "    </tr>\n",
       "    <tr>\n",
       "      <th>1</th>\n",
       "      <td>https://www.standardbank.co.za/</td>\n",
       "      <td>http://www.twitter.com/standardbankza</td>\n",
       "      <td>https://www.facebook.com/StandardBankSA</td>\n",
       "      <td>https://www.linkedin.com/company/standard-bank...</td>\n",
       "    </tr>\n",
       "    <tr>\n",
       "      <th>2</th>\n",
       "      <td>http://www.bidvest.co.za/</td>\n",
       "      <td>no link</td>\n",
       "      <td>no link</td>\n",
       "      <td>no link</td>\n",
       "    </tr>\n",
       "    <tr>\n",
       "      <th>3</th>\n",
       "      <td>https://www.spar.co.za/Home</td>\n",
       "      <td>no link</td>\n",
       "      <td>https://www.facebook.com/myspar/</td>\n",
       "      <td>no link</td>\n",
       "    </tr>\n",
       "    <tr>\n",
       "      <th>4</th>\n",
       "      <td>https://www.naspers.com/</td>\n",
       "      <td>https://twitter.com/NaspersVentures</td>\n",
       "      <td>no link</td>\n",
       "      <td>https://www.linkedin.com/company/nasperslimited</td>\n",
       "    </tr>\n",
       "  </tbody>\n",
       "</table>\n",
       "</div>"
      ],
      "text/plain": [
       "                               url                             twitter.com  \\\n",
       "0     https://www.firstrand.co.za/                                 no link   \n",
       "1  https://www.standardbank.co.za/  http://www.twitter.com/standardbankza    \n",
       "2        http://www.bidvest.co.za/                                 no link   \n",
       "3      https://www.spar.co.za/Home                                 no link   \n",
       "4         https://www.naspers.com/     https://twitter.com/NaspersVentures   \n",
       "\n",
       "                               facebook.com  \\\n",
       "0                                   no link   \n",
       "1  https://www.facebook.com/StandardBankSA    \n",
       "2                                   no link   \n",
       "3          https://www.facebook.com/myspar/   \n",
       "4                                   no link   \n",
       "\n",
       "                                        linkedin.com  \n",
       "0                                            no link  \n",
       "1  https://www.linkedin.com/company/standard-bank...  \n",
       "2                                            no link  \n",
       "3                                            no link  \n",
       "4    https://www.linkedin.com/company/nasperslimited  "
      ]
     },
     "execution_count": 13,
     "metadata": {},
     "output_type": "execute_result"
    }
   ],
   "source": [
    "import requests\n",
    "import pandas as pd\n",
    "from bs4 import BeautifulSoup\n",
    "from IPython.display import display\n",
    "\n",
    "urls = ['https://www.firstrand.co.za/','https://www.standardbank.co.za/','http://www.bidvest.co.za/','https://www.spar.co.za/Home','https://www.naspers.com/']\n",
    "sm_sites=['twitter.com','facebook.com','linkedin.com']\n",
    "sm_sites_present= []\n",
    "columns=['url']+ sm_sites\n",
    "df = pd.DataFrame(data={'url':urls}, columns=columns)\n",
    "\n",
    "def get_sm(row):\n",
    "    r = requests.get(row['url'])\n",
    "    output = pd.Series()\n",
    "    \n",
    "    soup= BeautifulSoup(r.content, 'html5lib')\n",
    "    all_links = soup.find_all('a', href=True)\n",
    "    for sm_site in sm_sites:\n",
    "        for link in all_links:\n",
    "            if sm_site in link.attrs['href']:\n",
    "                output[sm_site]=link.attrs['href']\n",
    "    return output\n",
    "\n",
    "sm_columns = df.apply(get_sm, axis=1)\n",
    "df.update(sm_columns)\n",
    "df.fillna(value='no link')"
   ]
  },
  {
   "cell_type": "code",
   "execution_count": 17,
   "metadata": {},
   "outputs": [],
   "source": [
    "from bs4 import BeautifulSoup\n",
    "import requests\n",
    "import pandas as pd\n",
    "\n",
    "df=pd.DataFrame(columns=['Website', 'Facebook', 'Twitter', 'LinkedIn'])\n",
    "\n",
    "urlsToSearch = ['https://www.firstrand.co.za/','https://www.standardbank.co.za/','http://www.bidvest.co.za/','https://www.spar.co.za/Home','https://www.naspers.com/']\n",
    "\n",
    "for url in urlsToSearch:\n",
    "    r=requests.get(url)\n",
    "    \n",
    "    tw_links = []\n",
    "    fb_links = []\n",
    "    in_links= []\n",
    "    \n",
    "    soup = BeautifulSoup(r.text, 'html.parser')\n",
    "    all_links = [link['href'] for link in soup.find_all('a', href= True)] #this is to get the href\n",
    "    \n",
    "    for link in all_links:\n",
    "        if'twitter.com' in link:\n",
    "            tw_links.append(link)\n",
    "        elif 'facebook.com' in link:\n",
    "            fb_links.append(link)\n",
    "        elif 'linkedin.com' in link:\n",
    "            in_links.append(link)\n",
    "            \n",
    "    df.loc[df.shape[0]] = [url,fb_links,tw_links, in_links] #for adding a new row at end of df\n",
    "    \n",
    "    "
   ]
  },
  {
   "cell_type": "code",
   "execution_count": 18,
   "metadata": {},
   "outputs": [
    {
     "name": "stdout",
     "output_type": "stream",
     "text": [
      "\n",
      "\n",
      "\n",
      "\n",
      "\n"
     ]
    }
   ],
   "source": [
    "from bs4 import BeautifulSoup\n",
    "import requests\n",
    "import pandas as pd\n",
    "\n",
    "df=pd.DataFrame(columns=['Website', 'Facebook', 'Twitter', 'LinkedIn'])\n",
    "\n",
    "urlsToSearch = ['https://www.firstrand.co.za/','https://www.standardbank.co.za/','http://www.bidvest.co.za/','https://www.spar.co.za/Home','https://www.naspers.com/']\n",
    "\n",
    "for url in urlsToSearch:\n",
    "    r=requests.get(url)\n",
    "    \n",
    "    tw_links = []\n",
    "    fb_links = []\n",
    "    in_links= []\n",
    "    \n",
    "    soup = BeautifulSoup(r.text, 'html.parser')\n",
    "    all_links = [link['href'] for link in soup.find_all('a', href= True)] #this is to get the href\n",
    "    \n",
    "    for link in all_links:\n",
    "        if'twitter.com' in link:\n",
    "            tw_links.append(link)\n",
    "        elif 'facebook.com' in link:\n",
    "            fb_links.append(link)\n",
    "        elif 'linkedin.com' in link:\n",
    "            in_links.append(link)\n",
    "            \n",
    "    df.loc[df.shape[0]] = [url,fb_links,tw_links, in_links] \n",
    "    print()"
   ]
  },
  {
   "cell_type": "code",
   "execution_count": null,
   "metadata": {},
   "outputs": [],
   "source": []
  }
 ],
 "metadata": {
  "kernelspec": {
   "display_name": "Python 3",
   "language": "python",
   "name": "python3"
  },
  "language_info": {
   "codemirror_mode": {
    "name": "ipython",
    "version": 3
   },
   "file_extension": ".py",
   "mimetype": "text/x-python",
   "name": "python",
   "nbconvert_exporter": "python",
   "pygments_lexer": "ipython3",
   "version": "3.7.6"
  }
 },
 "nbformat": 4,
 "nbformat_minor": 4
}
