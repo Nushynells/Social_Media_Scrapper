{
 "cells": [
  {
   "cell_type": "code",
   "execution_count": 8,
   "metadata": {},
   "outputs": [
    {
     "name": "stdout",
     "output_type": "stream",
     "text": [
      "['https://twitter.com/SafaricomPLC', 'https://twitter.com/SafaricomPLC', 'https://www.facebook.com/messages/t/SafaricomPLC', 'https://www.facebook.com/SafaricomPLC/', 'https://www.facebook.com/messages/t/SafaricomPLC', 'https://www.facebook.com/SafaricomPLC/', 'https://www.linkedin.com/company/safaricom/?originalSubdomain=ke']\n"
     ]
    }
   ],
   "source": [
    "import requests\n",
    "from bs4 import BeautifulSoup\n",
    "\n",
    "url = \"https://www.safaricom.co.ke/\"\n",
    "r = requests.get(url)\n",
    "sm_sites = ['twitter.com','facebook.com','linkedin.com']\n",
    "sm_sites_present =[]\n",
    "\n",
    "soup = BeautifulSoup(r.content,'html5lib')\n",
    "all_links = soup.find_all('a',href = True)\n",
    "\n",
    "for sm_site in sm_sites:\n",
    "    for link in all_links:\n",
    "        if sm_site in link.attrs['href']:\n",
    "            sm_sites_present.append(link.attrs['href'])\n",
    "            \n",
    "print(sm_sites_present)"
   ]
  },
  {
   "cell_type": "code",
   "execution_count": null,
   "metadata": {},
   "outputs": [],
   "source": []
  }
 ],
 "metadata": {
  "kernelspec": {
   "display_name": "Python 3",
   "language": "python",
   "name": "python3"
  },
  "language_info": {
   "codemirror_mode": {
    "name": "ipython",
    "version": 3
   },
   "file_extension": ".py",
   "mimetype": "text/x-python",
   "name": "python",
   "nbconvert_exporter": "python",
   "pygments_lexer": "ipython3",
   "version": "3.7.6"
  }
 },
 "nbformat": 4,
 "nbformat_minor": 4
}
